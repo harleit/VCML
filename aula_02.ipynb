{
 "cells": [
  {
   "cell_type": "code",
   "execution_count": 1,
   "id": "918ebb67-b326-4d04-9c54-09e074b11bb1",
   "metadata": {},
   "outputs": [
    {
     "name": "stdout",
     "output_type": "stream",
     "text": [
      "Visão Computacional e Aprendizado de Máquina\n"
     ]
    }
   ],
   "source": [
    "print('Visão Computacional e Aprendizado de Máquina')"
   ]
  },
  {
   "cell_type": "code",
   "execution_count": 6,
   "id": "c39124ed-ff0a-4d29-b793-9c46a9428fea",
   "metadata": {},
   "outputs": [],
   "source": [
    "lst_1 = ['Janeiro', 'Fevereiro', 'Março']"
   ]
  },
  {
   "cell_type": "code",
   "execution_count": 7,
   "id": "faf087f5-f94a-408e-9350-a517a814f9a3",
   "metadata": {},
   "outputs": [
    {
     "data": {
      "text/plain": [
       "['Janeiro', 'Fevereiro', 'Março']"
      ]
     },
     "execution_count": 7,
     "metadata": {},
     "output_type": "execute_result"
    }
   ],
   "source": [
    "lst_1"
   ]
  },
  {
   "cell_type": "code",
   "execution_count": 8,
   "id": "eabcaec4-32a5-4809-a6c8-c1c87a8bb95f",
   "metadata": {},
   "outputs": [
    {
     "name": "stdout",
     "output_type": "stream",
     "text": [
      "Valor de X:  1 Valor de S:  0\n",
      "Valor de X:  2 Valor de S:  1\n",
      "Valor de X:  3 Valor de S:  3\n",
      "Valor de X:  4 Valor de S:  6\n",
      "Valor de X:  5 Valor de S:  10\n",
      "Valor de X:  6 Valor de S:  15\n",
      "Valor de X:  7 Valor de S:  21\n",
      "Valor de X:  8 Valor de S:  28\n",
      "Valor de X:  9 Valor de S:  36\n",
      "Valor de X:  10 Valor de S:  45\n",
      "Valor de X:  11 Valor de S:  55\n",
      "Valor de X:  12 Valor de S:  66\n",
      "Valor de X:  13 Valor de S:  78\n",
      "Valor de X:  14 Valor de S:  91\n",
      "Valor de X:  15 Valor de S:  105\n",
      "Valor de X:  16 Valor de S:  120\n",
      "Valor de X:  17 Valor de S:  136\n",
      "Valor de X:  18 Valor de S:  153\n",
      "Valor de X:  19 Valor de S:  171\n",
      "Valor de X:  20 Valor de S:  190\n",
      "Valor de X:  21 Valor de S:  210\n",
      "Valor de X:  22 Valor de S:  231\n",
      "Valor de X:  23 Valor de S:  253\n",
      "Valor de X:  24 Valor de S:  276\n",
      "Valor de X:  25 Valor de S:  300\n"
     ]
    }
   ],
   "source": [
    "x = 0\n",
    "s = 0\n",
    "while x < 25:\n",
    "    s = s + x\n",
    "    x = x + 1\n",
    "    print('Valor de X: ', x, 'Valor de S: ', s)"
   ]
  },
  {
   "cell_type": "code",
   "execution_count": 9,
   "id": "6c92be40-32cb-4867-afef-6b50c95df2b8",
   "metadata": {},
   "outputs": [],
   "source": [
    "nome = 'Harley'"
   ]
  },
  {
   "cell_type": "code",
   "execution_count": 12,
   "id": "15386c27-1bee-4553-a833-19185a4291d7",
   "metadata": {},
   "outputs": [],
   "source": [
    "nome += ' Silva'"
   ]
  },
  {
   "cell_type": "code",
   "execution_count": 13,
   "id": "5fdf97cb-e09e-44d1-9436-561037a64698",
   "metadata": {},
   "outputs": [
    {
     "data": {
      "text/plain": [
       "'HarleySilva Silva'"
      ]
     },
     "execution_count": 13,
     "metadata": {},
     "output_type": "execute_result"
    }
   ],
   "source": [
    "nome"
   ]
  },
  {
   "cell_type": "code",
   "execution_count": 14,
   "id": "afa72daa-bff6-4b36-a512-00b122f29d96",
   "metadata": {},
   "outputs": [],
   "source": [
    "lst_1 += ['Abril']"
   ]
  },
  {
   "cell_type": "code",
   "execution_count": 15,
   "id": "697b1363-7052-46f1-8c45-04050a357b56",
   "metadata": {},
   "outputs": [
    {
     "data": {
      "text/plain": [
       "['Janeiro', 'Fevereiro', 'Março', 'Abril']"
      ]
     },
     "execution_count": 15,
     "metadata": {},
     "output_type": "execute_result"
    }
   ],
   "source": [
    "lst_1"
   ]
  },
  {
   "cell_type": "code",
   "execution_count": 16,
   "id": "f7413e24-60da-4720-ae9c-c643842aab18",
   "metadata": {},
   "outputs": [],
   "source": [
    "lst_1 += 'Maio'"
   ]
  },
  {
   "cell_type": "code",
   "execution_count": 17,
   "id": "a601111a-81bb-413f-bbc2-235daf2b345b",
   "metadata": {},
   "outputs": [
    {
     "data": {
      "text/plain": [
       "['Janeiro', 'Fevereiro', 'Março', 'Abril', 'M', 'a', 'i', 'o']"
      ]
     },
     "execution_count": 17,
     "metadata": {},
     "output_type": "execute_result"
    }
   ],
   "source": [
    "lst_1"
   ]
  },
  {
   "cell_type": "code",
   "execution_count": 23,
   "id": "170fc826-1c17-4cb7-9ce6-1de68bf32c9a",
   "metadata": {},
   "outputs": [],
   "source": [
    "lst_1.remove('o')"
   ]
  },
  {
   "cell_type": "code",
   "execution_count": 24,
   "id": "1680e458-77b7-4aa9-8759-b898bc04a2b4",
   "metadata": {},
   "outputs": [
    {
     "data": {
      "text/plain": [
       "['Janeiro', 'Fevereiro', 'Março', 'Abril', 'M', 'a', 'i']"
      ]
     },
     "execution_count": 24,
     "metadata": {},
     "output_type": "execute_result"
    }
   ],
   "source": [
    "lst_1"
   ]
  },
  {
   "cell_type": "code",
   "execution_count": 26,
   "id": "9b10467a-5947-4813-85f8-b75fecd31d61",
   "metadata": {},
   "outputs": [],
   "source": [
    "lst_1.remove('M')"
   ]
  },
  {
   "cell_type": "code",
   "execution_count": 27,
   "id": "04396541-6e8e-4870-9cc2-d5bcdea33d77",
   "metadata": {},
   "outputs": [],
   "source": [
    "lst_1.remove('a')"
   ]
  },
  {
   "cell_type": "code",
   "execution_count": 28,
   "id": "909226da-ca94-42c6-a324-bcc04fe13ed9",
   "metadata": {},
   "outputs": [],
   "source": [
    "lst_1.remove('i')"
   ]
  },
  {
   "cell_type": "code",
   "execution_count": 29,
   "id": "5c0dcfdc-c924-4354-a245-e08bafa65370",
   "metadata": {},
   "outputs": [
    {
     "data": {
      "text/plain": [
       "['Janeiro', 'Fevereiro', 'Março', 'Abril']"
      ]
     },
     "execution_count": 29,
     "metadata": {},
     "output_type": "execute_result"
    }
   ],
   "source": [
    "lst_1"
   ]
  },
  {
   "cell_type": "code",
   "execution_count": 30,
   "id": "aca16a04-7e51-484a-8ba9-4be67e1babd0",
   "metadata": {},
   "outputs": [],
   "source": [
    "v_str = 'Visão Computacional'"
   ]
  },
  {
   "cell_type": "code",
   "execution_count": 32,
   "id": "48c70e81-f8f6-4332-89d5-9b731f7cffd9",
   "metadata": {},
   "outputs": [
    {
     "data": {
      "text/plain": [
       "'lanoicatupmoC oãsiV'"
      ]
     },
     "execution_count": 32,
     "metadata": {},
     "output_type": "execute_result"
    }
   ],
   "source": [
    "v_str [::-1]"
   ]
  },
  {
   "cell_type": "code",
   "execution_count": 33,
   "id": "63ab294e-e028-4796-961f-1f6ab61e10e7",
   "metadata": {},
   "outputs": [
    {
     "name": "stdout",
     "output_type": "stream",
     "text": [
      "Aluno:  HarleySilva Silva  cursou a disciplina:  Visão Computacional  em  Abril\n"
     ]
    }
   ],
   "source": [
    "print('Aluno: ', nome, ' cursou a disciplina: ', v_str, ' em ', lst_1[3])"
   ]
  },
  {
   "cell_type": "code",
   "execution_count": 34,
   "id": "b0b302c7-1a13-43bb-938a-5ae00fb2bcb6",
   "metadata": {},
   "outputs": [],
   "source": [
    "def media_notas(lista):\n",
    "    return sum(lista)/len(lista)"
   ]
  },
  {
   "cell_type": "code",
   "execution_count": 48,
   "id": "ee1b0d08-e859-413d-b105-1e9f8e24108d",
   "metadata": {},
   "outputs": [
    {
     "name": "stdin",
     "output_type": "stream",
     "text": [
      "Digite uma nota ou Q para parar:  5.5\n"
     ]
    },
    {
     "ename": "AttributeError",
     "evalue": "'float' object has no attribute 'isnumeric'",
     "output_type": "error",
     "traceback": [
      "\u001b[1;31m---------------------------------------------------------------------------\u001b[0m",
      "\u001b[1;31mAttributeError\u001b[0m                            Traceback (most recent call last)",
      "Cell \u001b[1;32mIn[48], line 7\u001b[0m\n\u001b[0;32m      5\u001b[0m     \u001b[38;5;28;01mif\u001b[39;00m ent \u001b[38;5;241m==\u001b[39m \u001b[38;5;124m\"\u001b[39m\u001b[38;5;124mQ\u001b[39m\u001b[38;5;124m\"\u001b[39m:\n\u001b[0;32m      6\u001b[0m         \u001b[38;5;28;01mbreak\u001b[39;00m\n\u001b[1;32m----> 7\u001b[0m     \u001b[38;5;28;01melif\u001b[39;00m \u001b[43ment\u001b[49m\u001b[38;5;241;43m.\u001b[39;49m\u001b[43misnumeric\u001b[49m():\n\u001b[0;32m      8\u001b[0m         lst_notas\u001b[38;5;241m.\u001b[39mappend(\u001b[38;5;28mfloat\u001b[39m(ent))\n\u001b[0;32m      9\u001b[0m media \u001b[38;5;241m=\u001b[39m media_notas(lst_notas)\n",
      "\u001b[1;31mAttributeError\u001b[0m: 'float' object has no attribute 'isnumeric'"
     ]
    }
   ],
   "source": [
    "ent = 0.\n",
    "lst_notas = []\n",
    "while True:\n",
    "    ent = float(input('Digite uma nota ou Q para parar: '))\n",
    "    if ent == \"Q\":\n",
    "        break\n",
    "    elif ent.isnumeric():\n",
    "        lst_notas.append(float(ent))\n",
    "media = media_notas(lst_notas)\n",
    "lst_notas.sort()\n",
    "print('A média é: ', round(media,2))\n",
    "print('Quantidade de elementos: ', len(lst_notas))\n",
    "print('Menor valor: ', lst_notas[0])\n",
    "print('Maior valor: ', lst_notas[-1])"
   ]
  },
  {
   "cell_type": "code",
   "execution_count": 46,
   "id": "851073c1-caa9-49e8-8052-8933691ae615",
   "metadata": {},
   "outputs": [
    {
     "data": {
      "text/plain": [
       "\u001b[1;31mSignature:\u001b[0m \u001b[0mlst_notas\u001b[0m\u001b[1;33m.\u001b[0m\u001b[0msort\u001b[0m\u001b[1;33m(\u001b[0m\u001b[1;33m*\u001b[0m\u001b[1;33m,\u001b[0m \u001b[0mkey\u001b[0m\u001b[1;33m=\u001b[0m\u001b[1;32mNone\u001b[0m\u001b[1;33m,\u001b[0m \u001b[0mreverse\u001b[0m\u001b[1;33m=\u001b[0m\u001b[1;32mFalse\u001b[0m\u001b[1;33m)\u001b[0m\u001b[1;33m\u001b[0m\u001b[1;33m\u001b[0m\u001b[0m\n",
       "\u001b[1;31mDocstring:\u001b[0m\n",
       "Sort the list in ascending order and return None.\n",
       "\n",
       "The sort is in-place (i.e. the list itself is modified) and stable (i.e. the\n",
       "order of two equal elements is maintained).\n",
       "\n",
       "If a key function is given, apply it once to each list item and sort them,\n",
       "ascending or descending, according to their function values.\n",
       "\n",
       "The reverse flag can be set to sort in descending order.\n",
       "\u001b[1;31mType:\u001b[0m      builtin_function_or_method"
      ]
     },
     "metadata": {},
     "output_type": "display_data"
    }
   ],
   "source": [
    "lst_notas.sort?"
   ]
  },
  {
   "cell_type": "code",
   "execution_count": 41,
   "id": "acab0cae-6653-4c6e-8824-ebfe70265d73",
   "metadata": {},
   "outputs": [],
   "source": [
    "lst_notas.clear()"
   ]
  },
  {
   "cell_type": "code",
   "execution_count": 42,
   "id": "c16993a2-935f-47ab-b31e-d2dac4e7fbe2",
   "metadata": {},
   "outputs": [
    {
     "data": {
      "text/plain": [
       "[]"
      ]
     },
     "execution_count": 42,
     "metadata": {},
     "output_type": "execute_result"
    }
   ],
   "source": [
    "lst_notas"
   ]
  },
  {
   "cell_type": "code",
   "execution_count": 44,
   "id": "a91401d6-866c-493c-8215-bef938e08e2c",
   "metadata": {},
   "outputs": [
    {
     "data": {
      "text/plain": [
       "4"
      ]
     },
     "execution_count": 44,
     "metadata": {},
     "output_type": "execute_result"
    }
   ],
   "source": [
    "len(lst_notas)"
   ]
  },
  {
   "cell_type": "code",
   "execution_count": 45,
   "id": "83027f70-13d9-4332-81ce-aa145069871a",
   "metadata": {},
   "outputs": [
    {
     "data": {
      "text/plain": [
       "7.25"
      ]
     },
     "execution_count": 45,
     "metadata": {},
     "output_type": "execute_result"
    }
   ],
   "source": [
    "media"
   ]
  },
  {
   "cell_type": "markdown",
   "id": "f632d9e2-870f-41e3-b81a-69c461fa1784",
   "metadata": {},
   "source": [
    "## Numpy"
   ]
  },
  {
   "cell_type": "code",
   "execution_count": 59,
   "id": "25bf4713-2a84-4d0d-858c-93c9895047d9",
   "metadata": {},
   "outputs": [],
   "source": [
    "import numpy as np\n"
   ]
  },
  {
   "cell_type": "code",
   "execution_count": 60,
   "id": "9eca0668-433f-455b-b96f-84722152fd74",
   "metadata": {},
   "outputs": [
    {
     "data": {
      "text/plain": [
       "'1.26.4'"
      ]
     },
     "execution_count": 60,
     "metadata": {},
     "output_type": "execute_result"
    }
   ],
   "source": [
    "np.__version__"
   ]
  },
  {
   "cell_type": "code",
   "execution_count": 61,
   "id": "1ddfe422-1590-42d7-93a2-55e23c536b51",
   "metadata": {},
   "outputs": [],
   "source": [
    "m1 = np.array([12, 3, 5, 7, -6, 0])\n",
    "m2 = np.array([6, 12, 7, 11, 5, 1])"
   ]
  },
  {
   "cell_type": "code",
   "execution_count": 62,
   "id": "e36e0396-9152-4f48-a989-06dfac760e20",
   "metadata": {},
   "outputs": [
    {
     "data": {
      "text/plain": [
       "array([18, 15, 12, 18, -1,  1])"
      ]
     },
     "execution_count": 62,
     "metadata": {},
     "output_type": "execute_result"
    }
   ],
   "source": [
    "m1 + m2"
   ]
  },
  {
   "cell_type": "code",
   "execution_count": 63,
   "id": "b44c2a91-f447-4c09-bc93-bb1d2f03cb3c",
   "metadata": {},
   "outputs": [
    {
     "data": {
      "text/plain": [
       "array([ 72,  36,  35,  77, -30,   0])"
      ]
     },
     "execution_count": 63,
     "metadata": {},
     "output_type": "execute_result"
    }
   ],
   "source": [
    "m1 * m2"
   ]
  },
  {
   "cell_type": "code",
   "execution_count": 64,
   "id": "3ab664b0-0da4-4d01-927e-e0d85be3b991",
   "metadata": {},
   "outputs": [
    {
     "name": "stdout",
     "output_type": "stream",
     "text": [
      "[0, 1, 4, 9, 16, 25, 36, 49, 64, 81, 100, 121, 144, 169, 196, 225, 256, 289, 324, 361, 400, 441, 484, 529, 576, 625, 676, 729, 784, 841, 900, 961, 1024, 1089, 1156, 1225, 1296, 1369, 1444, 1521, 1600, 1681, 1764, 1849, 1936, 2025, 2116, 2209, 2304, 2401, 2500, 2601, 2704, 2809, 2916, 3025, 3136, 3249, 3364, 3481, 3600, 3721, 3844, 3969, 4096, 4225, 4356, 4489, 4624, 4761, 4900, 5041, 5184, 5329, 5476, 5625, 5776, 5929, 6084, 6241, 6400, 6561, 6724, 6889, 7056, 7225, 7396, 7569, 7744, 7921, 8100, 8281, 8464, 8649, 8836, 9025, 9216, 9409, 9604, 9801, 10000, 10201, 10404, 10609, 10816, 11025, 11236, 11449, 11664, 11881, 12100, 12321, 12544, 12769, 12996, 13225, 13456, 13689, 13924, 14161, 14400, 14641, 14884, 15129, 15376, 15625, 15876, 16129, 16384, 16641, 16900, 17161, 17424, 17689, 17956, 18225, 18496, 18769, 19044, 19321, 19600, 19881, 20164, 20449, 20736, 21025, 21316, 21609, 21904, 22201, 22500, 22801, 23104, 23409, 23716, 24025, 24336, 24649, 24964, 25281, 25600, 25921, 26244, 26569, 26896, 27225, 27556, 27889, 28224, 28561, 28900, 29241, 29584, 29929, 30276, 30625, 30976, 31329, 31684, 32041, 32400, 32761, 33124, 33489, 33856, 34225, 34596, 34969, 35344, 35721, 36100, 36481, 36864, 37249, 37636, 38025, 38416, 38809, 39204, 39601, 40000, 40401, 40804, 41209, 41616, 42025, 42436, 42849, 43264, 43681, 44100, 44521, 44944, 45369, 45796, 46225, 46656, 47089, 47524, 47961, 48400, 48841, 49284, 49729, 50176, 50625, 51076, 51529, 51984, 52441, 52900, 53361, 53824, 54289, 54756, 55225, 55696, 56169, 56644, 57121, 57600, 58081, 58564, 59049, 59536, 60025, 60516, 61009, 61504, 62001, 62500, 63001, 63504, 64009, 64516, 65025, 65536, 66049, 66564, 67081, 67600, 68121, 68644, 69169, 69696, 70225, 70756, 71289, 71824, 72361, 72900, 73441, 73984, 74529, 75076, 75625, 76176, 76729, 77284, 77841, 78400, 78961, 79524, 80089, 80656, 81225, 81796, 82369, 82944, 83521, 84100, 84681, 85264, 85849, 86436, 87025, 87616, 88209, 88804, 89401, 90000, 90601, 91204, 91809, 92416, 93025, 93636, 94249, 94864, 95481, 96100, 96721, 97344, 97969, 98596, 99225, 99856, 100489, 101124, 101761, 102400, 103041, 103684, 104329, 104976, 105625, 106276, 106929, 107584, 108241, 108900, 109561, 110224, 110889, 111556, 112225, 112896, 113569, 114244, 114921, 115600, 116281, 116964, 117649, 118336, 119025, 119716, 120409, 121104, 121801, 122500, 123201, 123904, 124609, 125316, 126025, 126736, 127449, 128164, 128881, 129600, 130321, 131044, 131769, 132496, 133225, 133956, 134689, 135424, 136161, 136900, 137641, 138384, 139129, 139876, 140625, 141376, 142129, 142884, 143641, 144400, 145161, 145924, 146689, 147456, 148225, 148996, 149769, 150544, 151321, 152100, 152881, 153664, 154449, 155236, 156025, 156816, 157609, 158404, 159201, 160000, 160801, 161604, 162409, 163216, 164025, 164836, 165649, 166464, 167281, 168100, 168921, 169744, 170569, 171396, 172225, 173056, 173889, 174724, 175561, 176400, 177241, 178084, 178929, 179776, 180625, 181476, 182329, 183184, 184041, 184900, 185761, 186624, 187489, 188356, 189225, 190096, 190969, 191844, 192721, 193600, 194481, 195364, 196249, 197136, 198025, 198916, 199809, 200704, 201601, 202500, 203401, 204304, 205209, 206116, 207025, 207936, 208849, 209764, 210681, 211600, 212521, 213444, 214369, 215296, 216225, 217156, 218089, 219024, 219961, 220900, 221841, 222784, 223729, 224676, 225625, 226576, 227529, 228484, 229441, 230400, 231361, 232324, 233289, 234256, 235225, 236196, 237169, 238144, 239121, 240100, 241081, 242064, 243049, 244036, 245025, 246016, 247009, 248004, 249001, 250000, 251001, 252004, 253009, 254016, 255025, 256036, 257049, 258064, 259081, 260100, 261121, 262144, 263169, 264196, 265225, 266256, 267289, 268324, 269361, 270400, 271441, 272484, 273529, 274576, 275625, 276676, 277729, 278784, 279841, 280900, 281961, 283024, 284089, 285156, 286225, 287296, 288369, 289444, 290521, 291600, 292681, 293764, 294849, 295936, 297025, 298116, 299209, 300304, 301401, 302500, 303601, 304704, 305809, 306916, 308025, 309136, 310249, 311364, 312481, 313600, 314721, 315844, 316969, 318096, 319225, 320356, 321489, 322624, 323761, 324900, 326041, 327184, 328329, 329476, 330625, 331776, 332929, 334084, 335241, 336400, 337561, 338724, 339889, 341056, 342225, 343396, 344569, 345744, 346921, 348100, 349281, 350464, 351649, 352836, 354025, 355216, 356409, 357604, 358801, 360000, 361201, 362404, 363609, 364816, 366025, 367236, 368449, 369664, 370881, 372100, 373321, 374544, 375769, 376996, 378225, 379456, 380689, 381924, 383161, 384400, 385641, 386884, 388129, 389376, 390625, 391876, 393129, 394384, 395641, 396900, 398161, 399424, 400689, 401956, 403225, 404496, 405769, 407044, 408321, 409600, 410881, 412164, 413449, 414736, 416025, 417316, 418609, 419904, 421201, 422500, 423801, 425104, 426409, 427716, 429025, 430336, 431649, 432964, 434281, 435600, 436921, 438244, 439569, 440896, 442225, 443556, 444889, 446224, 447561, 448900, 450241, 451584, 452929, 454276, 455625, 456976, 458329, 459684, 461041, 462400, 463761, 465124, 466489, 467856, 469225, 470596, 471969, 473344, 474721, 476100, 477481, 478864, 480249, 481636, 483025, 484416, 485809, 487204, 488601, 490000, 491401, 492804, 494209, 495616, 497025, 498436, 499849, 501264, 502681, 504100, 505521, 506944, 508369, 509796, 511225, 512656, 514089, 515524, 516961, 518400, 519841, 521284, 522729, 524176, 525625, 527076, 528529, 529984, 531441, 532900, 534361, 535824, 537289, 538756, 540225, 541696, 543169, 544644, 546121, 547600, 549081, 550564, 552049, 553536, 555025, 556516, 558009, 559504, 561001, 562500, 564001, 565504, 567009, 568516, 570025, 571536, 573049, 574564, 576081, 577600, 579121, 580644, 582169, 583696, 585225, 586756, 588289, 589824, 591361, 592900, 594441, 595984, 597529, 599076, 600625, 602176, 603729, 605284, 606841, 608400, 609961, 611524, 613089, 614656, 616225, 617796, 619369, 620944, 622521, 624100, 625681, 627264, 628849, 630436, 632025, 633616, 635209, 636804, 638401, 640000, 641601, 643204, 644809, 646416, 648025, 649636, 651249, 652864, 654481, 656100, 657721, 659344, 660969, 662596, 664225, 665856, 667489, 669124, 670761, 672400, 674041, 675684, 677329, 678976, 680625, 682276, 683929, 685584, 687241, 688900, 690561, 692224, 693889, 695556, 697225, 698896, 700569, 702244, 703921, 705600, 707281, 708964, 710649, 712336, 714025, 715716, 717409, 719104, 720801, 722500, 724201, 725904, 727609, 729316, 731025, 732736, 734449, 736164, 737881, 739600, 741321, 743044, 744769, 746496, 748225, 749956, 751689, 753424, 755161, 756900, 758641, 760384, 762129, 763876, 765625, 767376, 769129, 770884, 772641, 774400, 776161, 777924, 779689, 781456, 783225, 784996, 786769, 788544, 790321, 792100, 793881, 795664, 797449, 799236, 801025, 802816, 804609, 806404, 808201, 810000, 811801, 813604, 815409, 817216, 819025, 820836, 822649, 824464, 826281, 828100, 829921, 831744, 833569, 835396, 837225, 839056, 840889, 842724, 844561, 846400, 848241, 850084, 851929, 853776, 855625, 857476, 859329, 861184, 863041, 864900, 866761, 868624, 870489, 872356, 874225, 876096, 877969, 879844, 881721, 883600, 885481, 887364, 889249, 891136, 893025, 894916, 896809, 898704, 900601, 902500, 904401, 906304, 908209, 910116, 912025, 913936, 915849, 917764, 919681, 921600, 923521, 925444, 927369, 929296, 931225, 933156, 935089, 937024, 938961, 940900, 942841, 944784, 946729, 948676, 950625, 952576, 954529, 956484, 958441, 960400, 962361, 964324, 966289, 968256, 970225, 972196, 974169, 976144, 978121, 980100, 982081, 984064, 986049, 988036, 990025, 992016, 994009, 996004, 998001]\n"
     ]
    }
   ],
   "source": [
    "print([n*n for n in range(1000)])"
   ]
  },
  {
   "cell_type": "code",
   "execution_count": 65,
   "id": "4ecd6c15-e34b-4863-b79c-16c36a9bddfe",
   "metadata": {},
   "outputs": [],
   "source": [
    "m1 = [n for n in range(1000)]\n",
    "m2 = [n for n in range(1000)]"
   ]
  },
  {
   "cell_type": "code",
   "execution_count": 68,
   "id": "54630d6e-a314-43d7-9bac-c12398628068",
   "metadata": {},
   "outputs": [],
   "source": [
    "def dot(m1, m2):\n",
    "    s = 0\n",
    "    for i in range(1000):\n",
    "        s += m1[i] * m2[i]\n",
    "    return s"
   ]
  },
  {
   "cell_type": "code",
   "execution_count": 69,
   "id": "054c5737-e6d0-42f2-bcc7-df4c8e6e2d7f",
   "metadata": {},
   "outputs": [
    {
     "name": "stdout",
     "output_type": "stream",
     "text": [
      "105 µs ± 1.06 µs per loop (mean ± std. dev. of 7 runs, 10,000 loops each)\n"
     ]
    }
   ],
   "source": [
    "%timeit dot(m1, m2)"
   ]
  },
  {
   "cell_type": "code",
   "execution_count": 70,
   "id": "dde25860-6c25-49bc-a21b-f734fc27e78f",
   "metadata": {},
   "outputs": [
    {
     "name": "stdout",
     "output_type": "stream",
     "text": [
      "90.8 µs ± 198 ns per loop (mean ± std. dev. of 7 runs, 10,000 loops each)\n"
     ]
    }
   ],
   "source": [
    "%timeit np.dot(m1,m2)"
   ]
  },
  {
   "cell_type": "code",
   "execution_count": 71,
   "id": "1ad5f9d0-c860-486b-b52c-3b0e89c2d041",
   "metadata": {},
   "outputs": [],
   "source": [
    "m0 = np.array([[0,1,2], [4,5,6]])"
   ]
  },
  {
   "cell_type": "code",
   "execution_count": 72,
   "id": "bdbc019a-9b87-4f1e-8d54-20d8d8466bf6",
   "metadata": {},
   "outputs": [
    {
     "data": {
      "text/plain": [
       "array([[0, 1, 2],\n",
       "       [4, 5, 6]])"
      ]
     },
     "execution_count": 72,
     "metadata": {},
     "output_type": "execute_result"
    }
   ],
   "source": [
    "m0"
   ]
  },
  {
   "cell_type": "code",
   "execution_count": 73,
   "id": "02a5fa49-cf5f-415f-852d-32625012f243",
   "metadata": {},
   "outputs": [
    {
     "data": {
      "text/plain": [
       "(2, 3)"
      ]
     },
     "execution_count": 73,
     "metadata": {},
     "output_type": "execute_result"
    }
   ],
   "source": [
    "m0.shape"
   ]
  },
  {
   "cell_type": "code",
   "execution_count": 76,
   "id": "237e75ae-5f07-479d-9b79-89cb79997347",
   "metadata": {},
   "outputs": [
    {
     "data": {
      "text/plain": [
       "array([[0, 1],\n",
       "       [2, 4],\n",
       "       [5, 6]])"
      ]
     },
     "execution_count": 76,
     "metadata": {},
     "output_type": "execute_result"
    }
   ],
   "source": [
    "m0.reshape(3, 2)"
   ]
  },
  {
   "cell_type": "code",
   "execution_count": 77,
   "id": "3244f882-16cd-4f0f-867c-a5f1c808c4f1",
   "metadata": {},
   "outputs": [
    {
     "data": {
      "text/plain": [
       "array([[0., 0., 0.],\n",
       "       [0., 0., 0.]])"
      ]
     },
     "execution_count": 77,
     "metadata": {},
     "output_type": "execute_result"
    }
   ],
   "source": [
    "np.zeros((2,3))"
   ]
  },
  {
   "cell_type": "code",
   "execution_count": null,
   "id": "a0bf2d6a-a67b-4b7a-a102-9391247ea059",
   "metadata": {},
   "outputs": [],
   "source": []
  }
 ],
 "metadata": {
  "kernelspec": {
   "display_name": "Python 3 (ipykernel)",
   "language": "python",
   "name": "python3"
  },
  "language_info": {
   "codemirror_mode": {
    "name": "ipython",
    "version": 3
   },
   "file_extension": ".py",
   "mimetype": "text/x-python",
   "name": "python",
   "nbconvert_exporter": "python",
   "pygments_lexer": "ipython3",
   "version": "3.10.14"
  }
 },
 "nbformat": 4,
 "nbformat_minor": 5
}
